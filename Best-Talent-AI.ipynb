{
  "cells": [
    {
      "cell_type": "code",
      "execution_count": 1,
      "metadata": {
        "colab": {
          "base_uri": "https://localhost:8080/"
        },
        "collapsed": true,
        "id": "16N9Sui1oNNq",
        "outputId": "3abf3d36-82e2-414e-e0ca-2f62bbd7ef39"
      },
      "outputs": [
        {
          "name": "stdout",
          "output_type": "stream",
          "text": [
            "Defaulting to user installation because normal site-packages is not writeable\n",
            "Collecting langchain-google-genai\n",
            "  Downloading langchain_google_genai-2.0.9-py3-none-any.whl.metadata (3.6 kB)\n",
            "Collecting filetype<2.0.0,>=1.2.0 (from langchain-google-genai)\n",
            "  Downloading filetype-1.2.0-py2.py3-none-any.whl.metadata (6.5 kB)\n",
            "Collecting google-generativeai<0.9.0,>=0.8.0 (from langchain-google-genai)\n",
            "  Downloading google_generativeai-0.8.4-py3-none-any.whl.metadata (4.2 kB)\n",
            "Collecting langchain-core<0.4.0,>=0.3.27 (from langchain-google-genai)\n",
            "  Downloading langchain_core-0.3.35-py3-none-any.whl.metadata (5.9 kB)\n",
            "Collecting pydantic<3,>=2 (from langchain-google-genai)\n",
            "  Downloading pydantic-2.10.6-py3-none-any.whl.metadata (30 kB)\n",
            "Collecting google-ai-generativelanguage==0.6.15 (from google-generativeai<0.9.0,>=0.8.0->langchain-google-genai)\n",
            "  Downloading google_ai_generativelanguage-0.6.15-py3-none-any.whl.metadata (5.7 kB)\n",
            "Collecting google-api-core (from google-generativeai<0.9.0,>=0.8.0->langchain-google-genai)\n",
            "  Downloading google_api_core-2.24.1-py3-none-any.whl.metadata (3.0 kB)\n",
            "Collecting google-api-python-client (from google-generativeai<0.9.0,>=0.8.0->langchain-google-genai)\n",
            "  Downloading google_api_python_client-2.160.0-py2.py3-none-any.whl.metadata (6.7 kB)\n",
            "Collecting google-auth>=2.15.0 (from google-generativeai<0.9.0,>=0.8.0->langchain-google-genai)\n",
            "  Downloading google_auth-2.38.0-py2.py3-none-any.whl.metadata (4.8 kB)\n",
            "Requirement already satisfied: protobuf in /home/vscode/.local/lib/python3.11/site-packages (from google-generativeai<0.9.0,>=0.8.0->langchain-google-genai) (5.29.3)\n",
            "Collecting tqdm (from google-generativeai<0.9.0,>=0.8.0->langchain-google-genai)\n",
            "  Downloading tqdm-4.67.1-py3-none-any.whl.metadata (57 kB)\n",
            "\u001b[2K     \u001b[90m━━━━━━━━━━━━━━━━━━━━━━━━━━━━━━━━━━━━━━━━\u001b[0m \u001b[32m57.7/57.7 kB\u001b[0m \u001b[31m11.3 MB/s\u001b[0m eta \u001b[36m0:00:00\u001b[0m\n",
            "\u001b[?25hRequirement already satisfied: typing-extensions in /home/vscode/.local/lib/python3.11/site-packages (from google-generativeai<0.9.0,>=0.8.0->langchain-google-genai) (4.12.2)\n",
            "Collecting proto-plus<2.0.0dev,>=1.22.3 (from google-ai-generativelanguage==0.6.15->google-generativeai<0.9.0,>=0.8.0->langchain-google-genai)\n",
            "  Downloading proto_plus-1.26.0-py3-none-any.whl.metadata (2.2 kB)\n",
            "Collecting langsmith<0.4,>=0.1.125 (from langchain-core<0.4.0,>=0.3.27->langchain-google-genai)\n",
            "  Downloading langsmith-0.3.8-py3-none-any.whl.metadata (14 kB)\n",
            "Requirement already satisfied: tenacity!=8.4.0,<10.0.0,>=8.1.0 in /home/vscode/.local/lib/python3.11/site-packages (from langchain-core<0.4.0,>=0.3.27->langchain-google-genai) (9.0.0)\n",
            "Collecting jsonpatch<2.0,>=1.33 (from langchain-core<0.4.0,>=0.3.27->langchain-google-genai)\n",
            "  Downloading jsonpatch-1.33-py2.py3-none-any.whl.metadata (3.0 kB)\n",
            "Collecting PyYAML>=5.3 (from langchain-core<0.4.0,>=0.3.27->langchain-google-genai)\n",
            "  Downloading PyYAML-6.0.2-cp311-cp311-manylinux_2_17_x86_64.manylinux2014_x86_64.whl.metadata (2.1 kB)\n",
            "Requirement already satisfied: packaging<25,>=23.2 in /home/vscode/.local/lib/python3.11/site-packages (from langchain-core<0.4.0,>=0.3.27->langchain-google-genai) (24.2)\n",
            "Collecting annotated-types>=0.6.0 (from pydantic<3,>=2->langchain-google-genai)\n",
            "  Downloading annotated_types-0.7.0-py3-none-any.whl.metadata (15 kB)\n",
            "Collecting pydantic-core==2.27.2 (from pydantic<3,>=2->langchain-google-genai)\n",
            "  Downloading pydantic_core-2.27.2-cp311-cp311-manylinux_2_17_x86_64.manylinux2014_x86_64.whl.metadata (6.6 kB)\n",
            "Collecting googleapis-common-protos<2.0.dev0,>=1.56.2 (from google-api-core->google-generativeai<0.9.0,>=0.8.0->langchain-google-genai)\n",
            "  Downloading googleapis_common_protos-1.67.0-py2.py3-none-any.whl.metadata (5.1 kB)\n",
            "Requirement already satisfied: requests<3.0.0.dev0,>=2.18.0 in /home/vscode/.local/lib/python3.11/site-packages (from google-api-core->google-generativeai<0.9.0,>=0.8.0->langchain-google-genai) (2.32.3)\n",
            "Requirement already satisfied: cachetools<6.0,>=2.0.0 in /home/vscode/.local/lib/python3.11/site-packages (from google-auth>=2.15.0->google-generativeai<0.9.0,>=0.8.0->langchain-google-genai) (5.5.1)\n",
            "Collecting pyasn1-modules>=0.2.1 (from google-auth>=2.15.0->google-generativeai<0.9.0,>=0.8.0->langchain-google-genai)\n",
            "  Downloading pyasn1_modules-0.4.1-py3-none-any.whl.metadata (3.5 kB)\n",
            "Collecting rsa<5,>=3.1.4 (from google-auth>=2.15.0->google-generativeai<0.9.0,>=0.8.0->langchain-google-genai)\n",
            "  Downloading rsa-4.9-py3-none-any.whl.metadata (4.2 kB)\n",
            "Collecting jsonpointer>=1.9 (from jsonpatch<2.0,>=1.33->langchain-core<0.4.0,>=0.3.27->langchain-google-genai)\n",
            "  Downloading jsonpointer-3.0.0-py2.py3-none-any.whl.metadata (2.3 kB)\n",
            "Collecting httpx<1,>=0.23.0 (from langsmith<0.4,>=0.1.125->langchain-core<0.4.0,>=0.3.27->langchain-google-genai)\n",
            "  Downloading httpx-0.28.1-py3-none-any.whl.metadata (7.1 kB)\n",
            "Collecting orjson<4.0.0,>=3.9.14 (from langsmith<0.4,>=0.1.125->langchain-core<0.4.0,>=0.3.27->langchain-google-genai)\n",
            "  Downloading orjson-3.10.15-cp311-cp311-manylinux_2_17_x86_64.manylinux2014_x86_64.whl.metadata (41 kB)\n",
            "\u001b[2K     \u001b[90m━━━━━━━━━━━━━━━━━━━━━━━━━━━━━━━━━━━━━━━━\u001b[0m \u001b[32m41.8/41.8 kB\u001b[0m \u001b[31m7.8 MB/s\u001b[0m eta \u001b[36m0:00:00\u001b[0m\n",
            "\u001b[?25hCollecting requests-toolbelt<2.0.0,>=1.0.0 (from langsmith<0.4,>=0.1.125->langchain-core<0.4.0,>=0.3.27->langchain-google-genai)\n",
            "  Downloading requests_toolbelt-1.0.0-py2.py3-none-any.whl.metadata (14 kB)\n",
            "Collecting zstandard<0.24.0,>=0.23.0 (from langsmith<0.4,>=0.1.125->langchain-core<0.4.0,>=0.3.27->langchain-google-genai)\n",
            "  Downloading zstandard-0.23.0-cp311-cp311-manylinux_2_17_x86_64.manylinux2014_x86_64.whl.metadata (3.0 kB)\n",
            "Collecting httplib2<1.dev0,>=0.19.0 (from google-api-python-client->google-generativeai<0.9.0,>=0.8.0->langchain-google-genai)\n",
            "  Downloading httplib2-0.22.0-py3-none-any.whl.metadata (2.6 kB)\n",
            "Collecting google-auth-httplib2<1.0.0,>=0.2.0 (from google-api-python-client->google-generativeai<0.9.0,>=0.8.0->langchain-google-genai)\n",
            "  Downloading google_auth_httplib2-0.2.0-py2.py3-none-any.whl.metadata (2.2 kB)\n",
            "Collecting uritemplate<5,>=3.0.1 (from google-api-python-client->google-generativeai<0.9.0,>=0.8.0->langchain-google-genai)\n",
            "  Downloading uritemplate-4.1.1-py2.py3-none-any.whl.metadata (2.9 kB)\n",
            "Collecting grpcio<2.0dev,>=1.33.2 (from google-api-core[grpc]!=2.0.*,!=2.1.*,!=2.10.*,!=2.2.*,!=2.3.*,!=2.4.*,!=2.5.*,!=2.6.*,!=2.7.*,!=2.8.*,!=2.9.*,<3.0.0dev,>=1.34.1->google-ai-generativelanguage==0.6.15->google-generativeai<0.9.0,>=0.8.0->langchain-google-genai)\n",
            "  Downloading grpcio-1.70.0-cp311-cp311-manylinux_2_17_x86_64.manylinux2014_x86_64.whl.metadata (3.9 kB)\n",
            "Collecting grpcio-status<2.0.dev0,>=1.33.2 (from google-api-core[grpc]!=2.0.*,!=2.1.*,!=2.10.*,!=2.2.*,!=2.3.*,!=2.4.*,!=2.5.*,!=2.6.*,!=2.7.*,!=2.8.*,!=2.9.*,<3.0.0dev,>=1.34.1->google-ai-generativelanguage==0.6.15->google-generativeai<0.9.0,>=0.8.0->langchain-google-genai)\n",
            "  Downloading grpcio_status-1.70.0-py3-none-any.whl.metadata (1.1 kB)\n",
            "Collecting pyparsing!=3.0.0,!=3.0.1,!=3.0.2,!=3.0.3,<4,>=2.4.2 (from httplib2<1.dev0,>=0.19.0->google-api-python-client->google-generativeai<0.9.0,>=0.8.0->langchain-google-genai)\n",
            "  Downloading pyparsing-3.2.1-py3-none-any.whl.metadata (5.0 kB)\n",
            "Collecting anyio (from httpx<1,>=0.23.0->langsmith<0.4,>=0.1.125->langchain-core<0.4.0,>=0.3.27->langchain-google-genai)\n",
            "  Downloading anyio-4.8.0-py3-none-any.whl.metadata (4.6 kB)\n",
            "Requirement already satisfied: certifi in /home/vscode/.local/lib/python3.11/site-packages (from httpx<1,>=0.23.0->langsmith<0.4,>=0.1.125->langchain-core<0.4.0,>=0.3.27->langchain-google-genai) (2025.1.31)\n",
            "Collecting httpcore==1.* (from httpx<1,>=0.23.0->langsmith<0.4,>=0.1.125->langchain-core<0.4.0,>=0.3.27->langchain-google-genai)\n",
            "  Downloading httpcore-1.0.7-py3-none-any.whl.metadata (21 kB)\n",
            "Requirement already satisfied: idna in /home/vscode/.local/lib/python3.11/site-packages (from httpx<1,>=0.23.0->langsmith<0.4,>=0.1.125->langchain-core<0.4.0,>=0.3.27->langchain-google-genai) (3.10)\n",
            "Collecting h11<0.15,>=0.13 (from httpcore==1.*->httpx<1,>=0.23.0->langsmith<0.4,>=0.1.125->langchain-core<0.4.0,>=0.3.27->langchain-google-genai)\n",
            "  Downloading h11-0.14.0-py3-none-any.whl.metadata (8.2 kB)\n",
            "Collecting pyasn1<0.7.0,>=0.4.6 (from pyasn1-modules>=0.2.1->google-auth>=2.15.0->google-generativeai<0.9.0,>=0.8.0->langchain-google-genai)\n",
            "  Downloading pyasn1-0.6.1-py3-none-any.whl.metadata (8.4 kB)\n",
            "Requirement already satisfied: charset-normalizer<4,>=2 in /home/vscode/.local/lib/python3.11/site-packages (from requests<3.0.0.dev0,>=2.18.0->google-api-core->google-generativeai<0.9.0,>=0.8.0->langchain-google-genai) (3.4.1)\n",
            "Requirement already satisfied: urllib3<3,>=1.21.1 in /home/vscode/.local/lib/python3.11/site-packages (from requests<3.0.0.dev0,>=2.18.0->google-api-core->google-generativeai<0.9.0,>=0.8.0->langchain-google-genai) (2.3.0)\n",
            "Collecting sniffio>=1.1 (from anyio->httpx<1,>=0.23.0->langsmith<0.4,>=0.1.125->langchain-core<0.4.0,>=0.3.27->langchain-google-genai)\n",
            "  Downloading sniffio-1.3.1-py3-none-any.whl.metadata (3.9 kB)\n",
            "Downloading langchain_google_genai-2.0.9-py3-none-any.whl (41 kB)\n",
            "\u001b[2K   \u001b[90m━━━━━━━━━━━━━━━━━━━━━━━━━━━━━━━━━━━━━━━━\u001b[0m \u001b[32m41.7/41.7 kB\u001b[0m \u001b[31m4.5 MB/s\u001b[0m eta \u001b[36m0:00:00\u001b[0m\n",
            "\u001b[?25hDownloading filetype-1.2.0-py2.py3-none-any.whl (19 kB)\n",
            "Downloading google_generativeai-0.8.4-py3-none-any.whl (175 kB)\n",
            "\u001b[2K   \u001b[90m━━━━━━━━━━━━━━━━━━━━━━━━━━━━━━━━━━━━━━━━\u001b[0m \u001b[32m175.4/175.4 kB\u001b[0m \u001b[31m24.3 MB/s\u001b[0m eta \u001b[36m0:00:00\u001b[0m\n",
            "\u001b[?25hDownloading google_ai_generativelanguage-0.6.15-py3-none-any.whl (1.3 MB)\n",
            "\u001b[2K   \u001b[90m━━━━━━━━━━━━━━━━━━━━━━━━━━━━━━━━━━━━━━━━\u001b[0m \u001b[32m1.3/1.3 MB\u001b[0m \u001b[31m19.1 MB/s\u001b[0m eta \u001b[36m0:00:00\u001b[0m00:01\u001b[0m\n",
            "\u001b[?25hDownloading langchain_core-0.3.35-py3-none-any.whl (413 kB)\n",
            "\u001b[2K   \u001b[90m━━━━━━━━━━━━━━━━━━━━━━━━━━━━━━━━━━━━━━━━\u001b[0m \u001b[32m413.2/413.2 kB\u001b[0m \u001b[31m1.1 MB/s\u001b[0m eta \u001b[36m0:00:00\u001b[0m:00:01\u001b[0m\n",
            "\u001b[?25hDownloading pydantic-2.10.6-py3-none-any.whl (431 kB)\n",
            "\u001b[2K   \u001b[90m━━━━━━━━━━━━━━━━━━━━━━━━━━━━━━━━━━━━━━━━\u001b[0m \u001b[32m431.7/431.7 kB\u001b[0m \u001b[31m24.4 MB/s\u001b[0m eta \u001b[36m0:00:00\u001b[0m\n",
            "\u001b[?25hDownloading pydantic_core-2.27.2-cp311-cp311-manylinux_2_17_x86_64.manylinux2014_x86_64.whl (2.0 MB)\n",
            "\u001b[2K   \u001b[90m━━━━━━━━━━━━━━━━━━━━━━━━━━━━━━━━━━━━━━━━\u001b[0m \u001b[32m2.0/2.0 MB\u001b[0m \u001b[31m17.5 MB/s\u001b[0m eta \u001b[36m0:00:00\u001b[0m:00:01\u001b[0m\n",
            "\u001b[?25hDownloading annotated_types-0.7.0-py3-none-any.whl (13 kB)\n",
            "Downloading google_api_core-2.24.1-py3-none-any.whl (160 kB)\n",
            "\u001b[2K   \u001b[90m━━━━━━━━━━━━━━━━━━━━━━━━━━━━━━━━━━━━━━━━\u001b[0m \u001b[32m160.1/160.1 kB\u001b[0m \u001b[31m6.3 MB/s\u001b[0m eta \u001b[36m0:00:00\u001b[0m\n",
            "\u001b[?25hDownloading google_auth-2.38.0-py2.py3-none-any.whl (210 kB)\n",
            "\u001b[2K   \u001b[90m━━━━━━━━━━━━━━━━━━━━━━━━━━━━━━━━━━━━━━━━\u001b[0m \u001b[32m210.8/210.8 kB\u001b[0m \u001b[31m23.2 MB/s\u001b[0m eta \u001b[36m0:00:00\u001b[0m\n",
            "\u001b[?25hDownloading jsonpatch-1.33-py2.py3-none-any.whl (12 kB)\n",
            "Downloading langsmith-0.3.8-py3-none-any.whl (332 kB)\n",
            "\u001b[2K   \u001b[90m━━━━━━━━━━━━━━━━━━━━━━━━━━━━━━━━━━━━━━━━\u001b[0m \u001b[32m332.8/332.8 kB\u001b[0m \u001b[31m25.0 MB/s\u001b[0m eta \u001b[36m0:00:00\u001b[0m\n",
            "\u001b[?25hDownloading PyYAML-6.0.2-cp311-cp311-manylinux_2_17_x86_64.manylinux2014_x86_64.whl (762 kB)\n",
            "\u001b[2K   \u001b[90m━━━━━━━━━━━━━━━━━━━━━━━━━━━━━━━━━━━━━━━━\u001b[0m \u001b[32m763.0/763.0 kB\u001b[0m \u001b[31m12.2 MB/s\u001b[0m eta \u001b[36m0:00:00\u001b[0m00:01\u001b[0m\n",
            "\u001b[?25hDownloading google_api_python_client-2.160.0-py2.py3-none-any.whl (12.8 MB)\n",
            "\u001b[2K   \u001b[90m━━━━━━━━━━━━━━━━━━━━━━━━━━━━━━━━━━━━━━━━\u001b[0m \u001b[32m12.8/12.8 MB\u001b[0m \u001b[31m40.6 MB/s\u001b[0m eta \u001b[36m0:00:00\u001b[0m:00:01\u001b[0m0:01\u001b[0m\n",
            "\u001b[?25hDownloading tqdm-4.67.1-py3-none-any.whl (78 kB)\n",
            "\u001b[2K   \u001b[90m━━━━━━━━━━━━━━━━━━━━━━━━━━━━━━━━━━━━━━━━\u001b[0m \u001b[32m78.5/78.5 kB\u001b[0m \u001b[31m15.3 MB/s\u001b[0m eta \u001b[36m0:00:00\u001b[0m\n",
            "\u001b[?25hDownloading google_auth_httplib2-0.2.0-py2.py3-none-any.whl (9.3 kB)\n",
            "Downloading googleapis_common_protos-1.67.0-py2.py3-none-any.whl (164 kB)\n",
            "\u001b[2K   \u001b[90m━━━━━━━━━━━━━━━━━━━━━━━━━━━━━━━━━━━━━━━━\u001b[0m \u001b[32m165.0/165.0 kB\u001b[0m \u001b[31m23.0 MB/s\u001b[0m eta \u001b[36m0:00:00\u001b[0m\n",
            "\u001b[?25hDownloading httplib2-0.22.0-py3-none-any.whl (96 kB)\n",
            "\u001b[2K   \u001b[90m━━━━━━━━━━━━━━━━━━━━━━━━━━━━━━━━━━━━━━━━\u001b[0m \u001b[32m96.9/96.9 kB\u001b[0m \u001b[31m17.6 MB/s\u001b[0m eta \u001b[36m0:00:00\u001b[0m\n",
            "\u001b[?25hDownloading httpx-0.28.1-py3-none-any.whl (73 kB)\n",
            "\u001b[2K   \u001b[90m━━━━━━━━━━━━━━━━━━━━━━━━━━━━━━━━━━━━━━━━\u001b[0m \u001b[32m73.5/73.5 kB\u001b[0m \u001b[31m14.3 MB/s\u001b[0m eta \u001b[36m0:00:00\u001b[0m\n",
            "\u001b[?25hDownloading httpcore-1.0.7-py3-none-any.whl (78 kB)\n",
            "\u001b[2K   \u001b[90m━━━━━━━━━━━━━━━━━━━━━━━━━━━━━━━━━━━━━━━━\u001b[0m \u001b[32m78.6/78.6 kB\u001b[0m \u001b[31m15.2 MB/s\u001b[0m eta \u001b[36m0:00:00\u001b[0m\n",
            "\u001b[?25hDownloading jsonpointer-3.0.0-py2.py3-none-any.whl (7.6 kB)\n",
            "Downloading orjson-3.10.15-cp311-cp311-manylinux_2_17_x86_64.manylinux2014_x86_64.whl (130 kB)\n",
            "\u001b[2K   \u001b[90m━━━━━━━━━━━━━━━━━━━━━━━━━━━━━━━━━━━━━━━━\u001b[0m \u001b[32m130.3/130.3 kB\u001b[0m \u001b[31m23.0 MB/s\u001b[0m eta \u001b[36m0:00:00\u001b[0m\n",
            "\u001b[?25hDownloading proto_plus-1.26.0-py3-none-any.whl (50 kB)\n",
            "\u001b[2K   \u001b[90m━━━━━━━━━━━━━━━━━━━━━━━━━━━━━━━━━━━━━━━━\u001b[0m \u001b[32m50.2/50.2 kB\u001b[0m \u001b[31m10.0 MB/s\u001b[0m eta \u001b[36m0:00:00\u001b[0m\n",
            "\u001b[?25hDownloading pyasn1_modules-0.4.1-py3-none-any.whl (181 kB)\n",
            "\u001b[2K   \u001b[90m━━━━━━━━━━━━━━━━━━━━━━━━━━━━━━━━━━━━━━━━\u001b[0m \u001b[32m181.5/181.5 kB\u001b[0m \u001b[31m23.4 MB/s\u001b[0m eta \u001b[36m0:00:00\u001b[0m\n",
            "\u001b[?25hDownloading requests_toolbelt-1.0.0-py2.py3-none-any.whl (54 kB)\n",
            "\u001b[2K   \u001b[90m━━━━━━━━━━━━━━━━━━━━━━━━━━━━━━━━━━━━━━━━\u001b[0m \u001b[32m54.5/54.5 kB\u001b[0m \u001b[31m9.3 MB/s\u001b[0m eta \u001b[36m0:00:00\u001b[0m\n",
            "\u001b[?25hDownloading rsa-4.9-py3-none-any.whl (34 kB)\n",
            "Downloading uritemplate-4.1.1-py2.py3-none-any.whl (10 kB)\n",
            "Downloading zstandard-0.23.0-cp311-cp311-manylinux_2_17_x86_64.manylinux2014_x86_64.whl (5.4 MB)\n",
            "\u001b[2K   \u001b[90m━━━━━━━━━━━━━━━━━━━━━━━━━━━━━━━━━━━━━━━━\u001b[0m \u001b[32m5.4/5.4 MB\u001b[0m \u001b[31m48.9 MB/s\u001b[0m eta \u001b[36m0:00:00\u001b[0m:00:01\u001b[0m\n",
            "\u001b[?25hDownloading grpcio-1.70.0-cp311-cp311-manylinux_2_17_x86_64.manylinux2014_x86_64.whl (5.9 MB)\n",
            "\u001b[2K   \u001b[90m━━━━━━━━━━━━━━━━━━━━━━━━━━━━━━━━━━━━━━━━\u001b[0m \u001b[32m5.9/5.9 MB\u001b[0m \u001b[31m24.7 MB/s\u001b[0m eta \u001b[36m0:00:00\u001b[0m00:01\u001b[0m00:01\u001b[0m\n",
            "\u001b[?25hDownloading grpcio_status-1.70.0-py3-none-any.whl (14 kB)\n",
            "Downloading pyasn1-0.6.1-py3-none-any.whl (83 kB)\n",
            "\u001b[2K   \u001b[90m━━━━━━━━━━━━━━━━━━━━━━━━━━━━━━━━━━━━━━━━\u001b[0m \u001b[32m83.1/83.1 kB\u001b[0m \u001b[31m9.0 MB/s\u001b[0m eta \u001b[36m0:00:00\u001b[0m\n",
            "\u001b[?25hDownloading pyparsing-3.2.1-py3-none-any.whl (107 kB)\n",
            "\u001b[2K   \u001b[90m━━━━━━━━━━━━━━━━━━━━━━━━━━━━━━━━━━━━━━━━\u001b[0m \u001b[32m107.7/107.7 kB\u001b[0m \u001b[31m9.3 MB/s\u001b[0m eta \u001b[36m0:00:00\u001b[0m\n",
            "\u001b[?25hDownloading anyio-4.8.0-py3-none-any.whl (96 kB)\n",
            "\u001b[2K   \u001b[90m━━━━━━━━━━━━━━━━━━━━━━━━━━━━━━━━━━━━━━━━\u001b[0m \u001b[32m96.0/96.0 kB\u001b[0m \u001b[31m15.2 MB/s\u001b[0m eta \u001b[36m0:00:00\u001b[0m\n",
            "\u001b[?25hDownloading h11-0.14.0-py3-none-any.whl (58 kB)\n",
            "\u001b[2K   \u001b[90m━━━━━━━━━━━━━━━━━━━━━━━━━━━━━━━━━━━━━━━━\u001b[0m \u001b[32m58.3/58.3 kB\u001b[0m \u001b[31m11.6 MB/s\u001b[0m eta \u001b[36m0:00:00\u001b[0m\n",
            "\u001b[?25hDownloading sniffio-1.3.1-py3-none-any.whl (10 kB)\n",
            "Installing collected packages: filetype, zstandard, uritemplate, tqdm, sniffio, PyYAML, pyparsing, pydantic-core, pyasn1, proto-plus, orjson, jsonpointer, h11, grpcio, googleapis-common-protos, annotated-types, rsa, requests-toolbelt, pydantic, pyasn1-modules, jsonpatch, httplib2, httpcore, grpcio-status, anyio, httpx, google-auth, langsmith, google-auth-httplib2, google-api-core, langchain-core, google-api-python-client, google-ai-generativelanguage, google-generativeai, langchain-google-genai\n",
            "Successfully installed PyYAML-6.0.2 annotated-types-0.7.0 anyio-4.8.0 filetype-1.2.0 google-ai-generativelanguage-0.6.15 google-api-core-2.24.1 google-api-python-client-2.160.0 google-auth-2.38.0 google-auth-httplib2-0.2.0 google-generativeai-0.8.4 googleapis-common-protos-1.67.0 grpcio-1.70.0 grpcio-status-1.70.0 h11-0.14.0 httpcore-1.0.7 httplib2-0.22.0 httpx-0.28.1 jsonpatch-1.33 jsonpointer-3.0.0 langchain-core-0.3.35 langchain-google-genai-2.0.9 langsmith-0.3.8 orjson-3.10.15 proto-plus-1.26.0 pyasn1-0.6.1 pyasn1-modules-0.4.1 pydantic-2.10.6 pydantic-core-2.27.2 pyparsing-3.2.1 requests-toolbelt-1.0.0 rsa-4.9 sniffio-1.3.1 tqdm-4.67.1 uritemplate-4.1.1 zstandard-0.23.0\n",
            "\n",
            "\u001b[1m[\u001b[0m\u001b[34;49mnotice\u001b[0m\u001b[1;39;49m]\u001b[0m\u001b[39;49m A new release of pip is available: \u001b[0m\u001b[31;49m24.0\u001b[0m\u001b[39;49m -> \u001b[0m\u001b[32;49m25.0.1\u001b[0m\n",
            "\u001b[1m[\u001b[0m\u001b[34;49mnotice\u001b[0m\u001b[1;39;49m]\u001b[0m\u001b[39;49m To update, run: \u001b[0m\u001b[32;49mpip install --upgrade pip\u001b[0m\n"
          ]
        }
      ],
      "source": [
        "!pip install -U langchain-google-genai"
      ]
    },
    {
      "cell_type": "code",
      "execution_count": 2,
      "metadata": {
        "colab": {
          "base_uri": "https://localhost:8080/"
        },
        "collapsed": true,
        "id": "4x5j_boptFIa",
        "outputId": "28e571ab-e83b-43c3-a11c-d5af46429901"
      },
      "outputs": [
        {
          "name": "stdout",
          "output_type": "stream",
          "text": [
            "Defaulting to user installation because normal site-packages is not writeable\n",
            "Collecting PyPDF2\n",
            "  Downloading pypdf2-3.0.1-py3-none-any.whl.metadata (6.8 kB)\n",
            "Downloading pypdf2-3.0.1-py3-none-any.whl (232 kB)\n",
            "\u001b[2K   \u001b[90m━━━━━━━━━━━━━━━━━━━━━━━━━━━━━━━━━━━━━━━━\u001b[0m \u001b[32m232.6/232.6 kB\u001b[0m \u001b[31m21.9 MB/s\u001b[0m eta \u001b[36m0:00:00\u001b[0m\n",
            "\u001b[?25hInstalling collected packages: PyPDF2\n",
            "Successfully installed PyPDF2-3.0.1\n",
            "\n",
            "\u001b[1m[\u001b[0m\u001b[34;49mnotice\u001b[0m\u001b[1;39;49m]\u001b[0m\u001b[39;49m A new release of pip is available: \u001b[0m\u001b[31;49m24.0\u001b[0m\u001b[39;49m -> \u001b[0m\u001b[32;49m25.0.1\u001b[0m\n",
            "\u001b[1m[\u001b[0m\u001b[34;49mnotice\u001b[0m\u001b[1;39;49m]\u001b[0m\u001b[39;49m To update, run: \u001b[0m\u001b[32;49mpip install --upgrade pip\u001b[0m\n"
          ]
        }
      ],
      "source": [
        "!pip install PyPDF2\n"
      ]
    },
    {
      "cell_type": "code",
      "execution_count": 3,
      "metadata": {
        "id": "A0FdG34ql7R8"
      },
      "outputs": [
        {
          "name": "stderr",
          "output_type": "stream",
          "text": [
            "/home/vscode/.local/lib/python3.11/site-packages/tqdm/auto.py:21: TqdmWarning: IProgress not found. Please update jupyter and ipywidgets. See https://ipywidgets.readthedocs.io/en/stable/user_install.html\n",
            "  from .autonotebook import tqdm as notebook_tqdm\n"
          ]
        },
        {
          "ename": "ModuleNotFoundError",
          "evalue": "No module named 'google.colab'",
          "output_type": "error",
          "traceback": [
            "\u001b[0;31m---------------------------------------------------------------------------\u001b[0m",
            "\u001b[0;31mModuleNotFoundError\u001b[0m                       Traceback (most recent call last)",
            "Cell \u001b[0;32mIn[3], line 2\u001b[0m\n\u001b[1;32m      1\u001b[0m \u001b[38;5;28;01mimport\u001b[39;00m\u001b[38;5;250m \u001b[39m\u001b[38;5;21;01mgoogle\u001b[39;00m\u001b[38;5;21;01m.\u001b[39;00m\u001b[38;5;21;01mgenerativeai\u001b[39;00m\u001b[38;5;250m \u001b[39m\u001b[38;5;28;01mas\u001b[39;00m\u001b[38;5;250m \u001b[39m\u001b[38;5;21;01mgenai\u001b[39;00m\n\u001b[0;32m----> 2\u001b[0m \u001b[38;5;28;01mfrom\u001b[39;00m\u001b[38;5;250m \u001b[39m\u001b[38;5;21;01mgoogle\u001b[39;00m\u001b[38;5;21;01m.\u001b[39;00m\u001b[38;5;21;01mcolab\u001b[39;00m\u001b[38;5;250m \u001b[39m\u001b[38;5;28;01mimport\u001b[39;00m userdata\n\u001b[1;32m      3\u001b[0m \u001b[38;5;28;01mimport\u001b[39;00m\u001b[38;5;250m \u001b[39m\u001b[38;5;21;01mmatplotlib\u001b[39;00m\u001b[38;5;21;01m.\u001b[39;00m\u001b[38;5;21;01mpyplot\u001b[39;00m\u001b[38;5;250m \u001b[39m\u001b[38;5;28;01mas\u001b[39;00m\u001b[38;5;250m \u001b[39m\u001b[38;5;21;01mplt\u001b[39;00m\n\u001b[1;32m      4\u001b[0m \u001b[38;5;28;01mimport\u001b[39;00m\u001b[38;5;250m \u001b[39m\u001b[38;5;21;01mjson\u001b[39;00m\n",
            "\u001b[0;31mModuleNotFoundError\u001b[0m: No module named 'google.colab'"
          ]
        }
      ],
      "source": [
        "import google.generativeai as genai\n",
        "from google.colab import userdata\n",
        "import matplotlib.pyplot as plt\n",
        "import json\n",
        "import os\n",
        "from collections import Counter\n",
        "from IPython.display import Markdown\n",
        "from google.genai import types\n",
        "from langchain_google_genai import ChatGoogleGenerativeAI\n",
        "from PyPDF2 import PdfReader\n",
        "\n",
        "GOOGLE_API_KEY=userdata.get('GOOGLE_API_KEY')\n",
        "genai.configure(api_key=GOOGLE_API_KEY)\n",
        "model = ChatGoogleGenerativeAI(model=\"gemini-2.0-flash\")\n",
        "os.environ[\"GOOGLE_API_KEY\"] = userdata.get(\"GOOGLE_API_KEY\")"
      ]
    },
    {
      "cell_type": "code",
      "execution_count": 5,
      "metadata": {
        "id": "SgkfshTnmJ4T"
      },
      "outputs": [],
      "source": [
        "# Charger les besoins\n",
        "def lire_besoins(fichier):\n",
        "    with open(fichier, \"r\", encoding=\"utf-8\") as f:\n",
        "        besoins = f.read()\n",
        "    return besoins"
      ]
    },
    {
      "cell_type": "markdown",
      "metadata": {
        "id": "h3y6n_qYnIXo"
      },
      "source": [
        "# **Lire le fichier des besoins**"
      ]
    },
    {
      "cell_type": "code",
      "execution_count": 6,
      "metadata": {
        "colab": {
          "base_uri": "https://localhost:8080/"
        },
        "collapsed": true,
        "id": "78EBoh1kmP4r",
        "outputId": "8c6ae0f7-5376-4167-c904-50ca6e6365f9"
      },
      "outputs": [
        {
          "name": "stdout",
          "output_type": "stream",
          "text": [
            "\n",
            "Contenu du fichier :\n",
            "\n",
            "je cherche un profil pour développer une application Java avec model MCV\n",
            "nous avons une équipe calme et dynamique, donc je veux un profil avec des atouts complémentaire\n",
            "je veux de compétence comme java, Snowflake\n",
            "il s'agit de l'entreprise safran, elle fait dans l'aéronautique\n",
            "conseillez moi un niveau d'expérience pour ce besoin.\n",
            "je veux un profil en cdi\n",
            "poste situé en France et plus précisément à tarnos\n",
            "le salaire de base entre 45000-55000\n",
            "avantage de ticket restaurant, abonnement salle de sport\n"
          ]
        }
      ],
      "source": [
        "# Afficher le contenu du fichier\n",
        "def afficher_contenu(besoins):\n",
        "    print(\"\\nContenu du fichier :\\n\")\n",
        "    print(besoins)\n",
        "\n",
        "fichier_besoins = \"besoins.txt\"\n",
        "besoins = lire_besoins(fichier_besoins)\n",
        "afficher_contenu(besoins)"
      ]
    },
    {
      "cell_type": "markdown",
      "metadata": {
        "id": "tl1Zd-Mam9c5"
      },
      "source": [
        "# **Detection d'informations pertinantes**"
      ]
    },
    {
      "cell_type": "code",
      "execution_count": 7,
      "metadata": {
        "colab": {
          "base_uri": "https://localhost:8080/",
          "height": 373
        },
        "id": "RRXGnwjYmTOe",
        "outputId": "967fb670-27c1-4c00-dbef-10c463a2485f"
      },
      "outputs": [
        {
          "data": {
            "text/markdown": [
              "**Informations pertinentes pour l'offre d'emploi :**\n",
              "\n",
              "**Poste:** Développeur Java\n",
              "\n",
              "**Description du poste:**\n",
              "\n",
              "* Développer une application Java avec le modèle MCV\n",
              "* Compétences requises : Java, Snowflake\n",
              "* Travailler au sein d'une équipe calme et dynamique\n",
              "\n",
              "**Entreprise:** Safran (aéronautique)\n",
              "\n",
              "**Type de contrat:** CDI\n",
              "\n",
              "**Lieu:** Tarnos, France\n",
              "\n",
              "**Salaire:** 45 000 - 55 000 € (base)\n",
              "\n",
              "**Avantages:**\n",
              "\n",
              "* Tickets restaurant\n",
              "* Abonnement salle de sport\n",
              "\n",
              "**Niveau d'expérience recommandé:**\n",
              "\n",
              "* Le niveau d'expérience souhaité n'est pas spécifié dans le texte. Cependant, compte tenu des compétences techniques requises et de la nature du projet, il est recommandé de rechercher des candidats ayant au moins 2 à 4 ans d'expérience en développement Java."
            ],
            "text/plain": [
              "<IPython.core.display.Markdown object>"
            ]
          },
          "execution_count": 7,
          "metadata": {},
          "output_type": "execute_result"
        }
      ],
      "source": [
        "\n",
        "# Détecter les informations pertinentes pour la rédaction de l'offre\n",
        "def detecter_info(besoins):\n",
        "    model = genai.GenerativeModel(\"gemini-pro\")\n",
        "    prompt = \"Analyse le texte suivant et extrait les informations pertinentes pour rédiger une offre d'emploi :\\n\" + besoins\n",
        "    reponse = model.generate_content(prompt)\n",
        "    info_pertinentes = reponse.text.strip()\n",
        "    return info_pertinentes\n",
        "info_pertinentes = detecter_info(besoins)\n",
        "Markdown(info_pertinentes)"
      ]
    },
    {
      "cell_type": "markdown",
      "metadata": {
        "id": "RO7-jtdam0Hc"
      },
      "source": [
        "#**Redaction de l'offre d'emploi**"
      ]
    },
    {
      "cell_type": "code",
      "execution_count": 23,
      "metadata": {
        "colab": {
          "base_uri": "https://localhost:8080/",
          "height": 622
        },
        "id": "2D-V8ylYmdal",
        "outputId": "db234c88-cb42-4c5b-acfb-4f0c7f6aa9c1"
      },
      "outputs": [
        {
          "data": {
            "text/markdown": [
              "**Offre d'Emploi**\n",
              "\n",
              "**Entreprise:** Safran (Aéronautique)\n",
              "\n",
              "**Poste:** Développeur Java (CDI)\n",
              "\n",
              "**Lieu:** Tarnos, France\n",
              "\n",
              "**Description du Poste:**\n",
              "\n",
              "Safran recherche un Développeur Java talentueux pour rejoindre son équipe de développement logicielle. Le candidat idéal sera responsable du développement d'une application Java en utilisant le modèle MVC.\n",
              "\n",
              "**Responsabilités:**\n",
              "\n",
              "* Concevoir et développer une application Java à l'aide du modèle MVC\n",
              "* Intégrer l'application à des bases de données Snowflake\n",
              "* Maintenir et améliorer le codebase existant\n",
              "* Collaborer avec d'autres membres de l'équipe pour assurer la qualité du logiciel\n",
              "\n",
              "**Compétences Requises:**\n",
              "\n",
              "* Maîtrise de Java\n",
              "* Connaissance approfondie de Snowflake\n",
              "* Expérience dans le développement d'applications utilisant le modèle MVC\n",
              "* Excellentes compétences en programmation orientée objet\n",
              "* Capacité à travailler efficacement au sein d'une équipe\n",
              "* Solides compétences en résolution de problèmes et en débogage\n",
              "\n",
              "**Niveau d'expérience recommandé:**\n",
              "\n",
              "2 à 4 ans d'expérience en développement Java.\n",
              "\n",
              "**Avantages:**\n",
              "\n",
              "* Salaire de base : 45 000 - 55 000 €\n",
              "* Tickets restaurant\n",
              "* Abonnement salle de sport\n",
              "* Environnement de travail calme et dynamique\n",
              "* Opportunités de développement professionnel\n",
              "\n",
              "**Pour postuler:**\n",
              "\n",
              "Veuillez envoyer votre CV et une lettre de motivation à **[adresse e-mail]**"
            ],
            "text/plain": [
              "<IPython.core.display.Markdown object>"
            ]
          },
          "execution_count": 23,
          "metadata": {},
          "output_type": "execute_result"
        }
      ],
      "source": [
        "# Rédaction de l'offre\n",
        "def rediger_offre(info_pertinentes):\n",
        "    model = genai.GenerativeModel(\"gemini-pro\")\n",
        "    prompt = f\"À partir des informations suivantes, rédige une offre d'emploi complète et bien structurée :\\n{info_pertinentes}\"\n",
        "    reponse = model.generate_content(prompt)\n",
        "    offre = reponse.text.strip()\n",
        "    #print(f\"\\nOffre d'emploi générée :\\n{offre}\")\n",
        "    return offre\n",
        "offre = rediger_offre(info_pertinentes)\n",
        "Markdown(offre)"
      ]
    },
    {
      "cell_type": "markdown",
      "metadata": {
        "id": "9dkz31hbwLH8"
      },
      "source": [
        "# **Importation et affichage du pdf**"
      ]
    },
    {
      "cell_type": "code",
      "execution_count": 24,
      "metadata": {
        "colab": {
          "base_uri": "https://localhost:8080/"
        },
        "collapsed": true,
        "id": "mCo4QCLCsAuv",
        "outputId": "4d01a6b2-3d26-4e0b-cfeb-89634cf9674c"
      },
      "outputs": [
        {
          "name": "stdout",
          "output_type": "stream",
          "text": [
            "\n",
            "Contenu du CV (Cv_AD.pdf) :\n",
            "\n",
            "   Port Autonome de Douala\n",
            "    Stagiaire ingénieur data junior(Avril-Juin 2022 )\n",
            "       Missions\n",
            "Contribuer à la réflexion sur la stratégie de la business\n",
            "intelligence de l’entreprise.\n",
            "Recueillir et comprendre les besoins métiers. \n",
            "Collecter et sélectionner les données internes de\n",
            "l’entreprise pour l’analyse.\n",
            "Présenter les données analysées de manières claires et\n",
            "visuelles.\n",
            "           Y A N N I C K  S O N E  S O N E\n",
            "E X P É R I E N C E S  P R O F E S S I O N N E L L E SALTERNANCE DE 24 MOIS EN TANT QUE DATA\n",
            "ANALYST / BI\n",
            "E - m a i l\n",
            "yannickaristide.jlg@gmail.com\n",
            "M o b i l e\n",
            "0753708280\n",
            "A d r e s s e\n",
            "5 square du pétit éventail\n",
            "49100 Angers\n",
            "L a n g u e s\n",
            "Français: langue maternelle\n",
            "Anglais: B2\n",
            "Allemand: A2\n",
            "P e r m i s\n",
            "B\n",
            "C E N T R E S  D ' I N T É R Ê TC O M P É T E N C E S  T E C H N I Q U E S\n",
            "Lecture\n",
            "Musique\n",
            "CyclismeA 1\n",
            "Diplôme d’ingénieur informatique(en cours)\n",
            "Esaip école d’ingénieurs (Angers, France)\n",
            "2023 - 2026\n",
            "Modules principaux: Mathématiques, Programmation orientée\n",
            "objet, Administration système et réseaux, Gestion de projet.F O R M A T I O N S\n",
            "Licence de Technologie en Informatique et Réseaux\n",
            "Institut universitaire de technologie(Bandjoun, Cameroun)\n",
            "2020 - 2023\n",
            "Modules principaux: Analyse fonctionnelle, Developpement web\n",
            "et mobile, Big data, base de données, Sytèmes et Réseaux.Langages Informatiques :  Python,\n",
            "R, javascript, Java, C, Php .\n",
            "Framework : Spring Boot,\n",
            "SpringBatch, Laravel, Flutter. \n",
            "Base de données: MySql, \n",
            "MongoDB, Oracle.\n",
            "A T O U T S\n",
            "-bonne communication\n",
            "-Rigueur\n",
            "-Travail en équipe\n",
            "-Organisation\n",
            "RYTHME: 2 Semaines Entreprise/ 2 semaines École\n",
            "DISPONIBILITÉ: Septembre 2024\n",
            "Outils Informatiques: Excel,\n",
            "Power Bi, Wireshark, Anaconda,\n",
            "Matplotlib\n",
            "Systèmes d’exploitations:\n",
            "Windows, Ubuntu, DebianANT ( Association du numérique pour tous)\n",
            "Bénévole ( Novembre 2023- Février 2024\n",
            "Créer les feuilles sur Excel pour collecter les données\n",
            "personnelles des apprenants en vue de la réalisation des\n",
            "programmes personnalisées d’apprentissage.L i n k d i n\n",
            "yannick sone sone\n",
            "Sejour Erasmus (en cours)\n",
            "Hochschule Hof University of Applied Sciences(Hof, Allemagne)\n",
            "Mars 2024- juillet 2024\n",
            "Modules principaux: Operating Systems, Cloud computing, Data\n",
            "science, Information technology.  Intelligensia Corporation\n",
            " Assistant à la direction technique (Février - Mai 2023)\n",
            "       Missions\n",
            "Automatiser la collecte et le traitement des données.\n",
            "Développer un Dashboard Power Bi qui fourni les\n",
            "information en temps réel et améliore la prise de décision.\n",
            "Fournir les rapports mensuels des données analysées\n",
            "Contribuer à la sécurité et la confidentialité des données\n",
            "traitées.\n",
            "           \n",
            "\n",
            "\n",
            "Contenu du CV (Cv_Cl22.pdf) :\n",
            "\n",
            "Super U | Saint-Sylvaint-d’Anjou\n",
            "    Agent de service\n",
            "    December 2023-Mars 2024 \n",
            "             Missions\n",
            "             - Vider les poubelles\n",
            "            -depoussiérer les meubles \n",
            "            - Aspirer les tapis\n",
            "            -Aspirer les sols  \n",
            "             -Nettoyer les espaces communs\n",
            "             - Nettoyer les caisses\n",
            "             - Nettoyer les sanitaires privés et publiques.\n",
            "              \n",
            "            \n",
            "                   A R I S T I D E  C A S H\n",
            " E X P E R I E N C E S   P R O F E S S I O N N E L L E S   Agent D’entretien\n",
            "E - m a i l\n",
            "yannickaristide.jlg@gmail.com\n",
            "M o b i l e\n",
            "0753708280\n",
            "A d r e s s e\n",
            "5 square du petit éventail\n",
            "49100 Angers\n",
            "L a n g u e s\n",
            "Anglais, Français\n",
            "C E N T R E S  D ' I N T É R Ê TA T O U T S\n",
            "-Football\n",
            "-Musique\n",
            "-Devéloppement personnel\n",
            "-NatationA 1Baccalaureat s\n",
            "college adventiste\n",
            "Yaounde-Cameroun\n",
            "2018-2019E D U C A T I O N S\n",
            "Geodis | Verrères-en-Anjou\n",
            "  Agent d’entretien industriel\n",
            "    Octobre-Decembre 2023\n",
            "          Missions\n",
            "             -Nettoyer les sols et les vitres \n",
            "             -Nettoyer les espaces communs \n",
            "             -Nettoyer les espaces extérieures \n",
            "             -Nettoyer les sanitaires\n",
            "             -Aspirer les tapis\n",
            "             -Vider les poubelles\n",
            "            \n",
            "            \n",
            "             -Organisation\n",
            " -Travail en équipe\n",
            " -Dynamisme\n",
            " -Rapidité\n",
            " -Intégrité \n",
            "-Ponctualité Licence-Informatique\n",
            "Institut universitaire de technologie\n",
            "Bandjoun- Cameroun\n",
            " septembre 2020  - juillet 2023Esaip Ecole d’ingénieurs\n",
            "Angers-France\n",
            " Septembre 2023- Septembre 2026\n",
            "P e r m i s\n",
            "B\n",
            "\n",
            "\n",
            "Contenu du CV (CV Cantona W.pdf) :\n",
            "\n",
            " \n",
            " \n",
            " \n",
            " \n",
            " \n",
            " \n",
            " \n",
            " \n",
            " \n",
            " \n",
            " \n",
            " \n",
            " \n",
            " \n",
            " \n",
            " \n",
            " \n",
            " \n",
            " \n",
            " \n",
            " \n",
            " \n",
            " \n",
            " \n",
            " \n",
            " \n",
            " \n",
            " \n",
            " \n",
            " \n",
            " \n",
            " \n",
            " \n",
            " \n",
            " \n",
            " \n",
            " \n",
            " \n",
            " \n",
            " \n",
            " \n",
            " \n",
            " \n",
            " \n",
            " \n",
            " \n",
            " \n",
            " \n",
            " \n",
            " \n",
            " \n",
            " \n",
            " \n",
            "CONTACT  \n",
            "+33 7 51 14 02 15   \n",
            "   tallawilly@icloud.com  \n",
            " 1 Rue Germaine Tillion, 72000 Le  Mans  \n",
            "COMPETENCES  \n",
            "o Maitrise d’analyse des données,  \n",
            "modélisation statique  et dynamique  \n",
            "o Connaissance dans les algorithmes de \n",
            "machine Learning , Deep Learning  \n",
            "o Langage s : python, R , C, SAS,  JavaScript,  \n",
            "HTML,  PHP, VBA, SQL,  et Java  \n",
            "o Collecte, nettoyage, transformation et \n",
            "stockage des données  \n",
            "o Logiciels : Excel, Power BI, AWS, Power \n",
            "Point , R Studio  \n",
            "o Outils  : Matplotlib, Seaborn, ggplot2  Passionné de la Data  et avide  de mettre mes connaissances \n",
            "dans un environnement professionnel stimulant. Je suis à la \n",
            "recherche d’une alternance niveau Bac+4 (2ème année du \n",
            "cycle ingénieur)  pour une durée d’un ou deux ans.  \n",
            "EXPERIENCE PROFESSIONNELLE  \n",
            "11/2023 – 02/2024  \n",
            "Burger King  I  Le  Mans  \n",
            "ASSISTANT EN BIG DATA ET ANALYTICS  \n",
            "• Automatiser et fiabiliser le traitement des \n",
            "données.  \n",
            "• Développer un tableau de bord Power BI, qui \n",
            "fournit  des informations en temps réel et \n",
            "améliore la prise de décision.  \n",
            "• Fournir des rapports mensuels sur \n",
            "l’avancement des contrôles et recommander \n",
            "des solutions . \n",
            "05/2023 – 09/2023 \n",
            "Eneo     I  Douala -Cameroun  \n",
            " RECHERCHE EN APPRENTISSAGE \n",
            "AUTOMATIQUE  (STAGE)  \n",
            "• Conce voir un modèle de prédiction basé sur le \n",
            "Machine Learning pour anticiper sur les \n",
            "performances  d’un système . \n",
            "• Analyse r les résultats et rédiger  un article de \n",
            "recherche pour publication . \n",
            " \n",
            " \n",
            "FORMATION  \n",
            "02/2024 – En cours  \n",
            "University of veliko tarnovo   I  Véliko -Bulgarie  \n",
            "ERASMUS (SEMESTRE 2)  \n",
            "Modules principaux :  Analyse  de données, \n",
            "programmation  web,  Réseaux, Management et  \n",
            "fondamentaux de  l’intelligence artificielle  et IoT . \n",
            "ATOUTS  \n",
            "LANGUES  \n",
            "o Français : Langue maternelle  \n",
            "o Anglais : B2 \n",
            "CENTRE D’INTERET   \n",
            "o Lecture, Musique et Voyage  \n",
            " \n",
            "04/202 2 – 08/202 2 \n",
            "Hysacam   I  Douala -Cameroun  \n",
            "ASSSISTANT EN DATA ANALYST / DATA \n",
            "SCIENTIST (BENEVOLA T) \n",
            "• Coder en VBA pour automatiser les \n",
            "évènements répétitifs.  \n",
            "• Manipuler les bases de données à partir des \n",
            "requêtes SQL  \n",
            "09/202 3 – 01/2024  \n",
            "ESAIP   I  Angers  \n",
            "1ère ANNEE CYCLE INGENIEURE (SEMESTRE 1)  \n",
            "Modules principaux :  sciences  mathématiques , \n",
            "développement , analyses des données, \n",
            "management des projets, systèmes  et réseaux . \n",
            "09/2021 – 06/202 3 \n",
            "Université de la Côte   I   Douala -Cameroun  \n",
            "DEUX ANNEES DE CLASSE PREPARATOIRE  \n",
            "Modules principaux : Management, Marketing, \n",
            "mathématiques , informatique, sciences de \n",
            "l’ingénieur . \n",
            " \n",
            " \n",
            "09/2020 – 06/2021  \n",
            "Collège de la Vallée   I   Douala -Cameroun  \n",
            "BACCALAUREAT SCIENTIFIQUE  \n",
            " \n",
            " Willy Cantona  WAFFO TALLA  \n",
            " \n",
            "o Travail en équipe  et Sens du relationnel  \n",
            "o Sens du relationnel  et de l’analyse  \n",
            "o Autonomie et ouverture d’esprit  \n",
            "o Dynamisme et Autonomie  \n",
            "o Fort de proposition  DATA ANALYST / DATA SCIENTIST  \n",
            " \n",
            "Rythme  : 1 mois en entreprise / 1 mois à \n",
            "l’école  \n",
            "   https://www.linkedin.com/in/willy -cantona  \n",
            " \n",
            "  Permis B  \n",
            "  Mobilité  : France  \n",
            " \n",
            "\n",
            "\n"
          ]
        }
      ],
      "source": [
        "def importer_cvs(dossier):\n",
        "    cvs_contenu = {}\n",
        "    for fichier in os.listdir(dossier):\n",
        "        if fichier.endswith(\".pdf\"):\n",
        "            chemin_complet = os.path.join(dossier, fichier)\n",
        "            reader = PdfReader(chemin_complet)\n",
        "            contenu = \"\"\n",
        "            for page in reader.pages:\n",
        "                contenu += page.extract_text() + \"\\n\"\n",
        "            cvs_contenu[fichier] = contenu\n",
        "            print(f\"\\nContenu du CV ({fichier}) :\\n\")\n",
        "            print(contenu)\n",
        "    return cvs_contenu\n",
        "\n",
        "dossier_cvs = \"CV\"\n",
        "contenus_cvs = importer_cvs(dossier_cvs)"
      ]
    },
    {
      "cell_type": "code",
      "execution_count": 25,
      "metadata": {
        "colab": {
          "base_uri": "https://localhost:8080/"
        },
        "id": "F32zkp4s1O-T",
        "outputId": "875de20e-6624-47d0-de2c-bd75116f5fab"
      },
      "outputs": [
        {
          "name": "stdout",
          "output_type": "stream",
          "text": [
            "Okay, here's a breakdown of the key information extracted from each CV, designed to help you analyze the candidates:\n",
            "\n",
            "**1. Yannick Sone Sone (Cv_AD.pdf)**\n",
            "\n",
            "*   **Role Sought:** Alternance (Apprenticeship) as Data Analyst / BI (Business Intelligence)\n",
            "*   **Availability:** September 2024\n",
            "*   **Education:**\n",
            "    *   Currently pursuing an Engineering degree in Computer Science at Esaip école d’ingénieurs (Angers, France) (2023-2026)\n",
            "    *   Bachelor's degree in Technology in Computer Science and Networks from Institut universitaire de technologie (Bandjoun, Cameroon) (2020-2023)\n",
            "    *   Erasmus stay at Hochschule Hof University of Applied Sciences (Hof, Germany) (March 2024 - July 2024)\n",
            "*   **Experience:**\n",
            "    *   Port Autonome de Douala: Junior Data Engineer Intern (April-June 2022)\n",
            "    *   Intelligensia Corporation: Assistant to the Technical Director (February - May 2023)\n",
            "    *   ANT (Association du numérique pour tous): Volunteer (November 2023- February 2024)\n",
            "*   **Skills:**\n",
            "    *   **Programming Languages:** Python, R, JavaScript, Java, C, PHP\n",
            "    *   **Frameworks:** Spring Boot, SpringBatch, Laravel, Flutter\n",
            "    *   **Databases:** MySQL, MongoDB, Oracle\n",
            "    *   **Tools:** Excel, Power BI, Wireshark, Anaconda, Matplotlib\n",
            "    *   **Operating Systems:** Windows, Ubuntu, Debian\n",
            "*   **Languages:**\n",
            "    *   French: Native\n",
            "    *   English: B2\n",
            "    *   German: A2\n",
            "*   **Other:**\n",
            "    *   Driver's License: B\n",
            "    *   Good communication, Rigor, Teamwork, Organization\n",
            "    *   Rythm: 2 weeks in company / 2 weeks in school\n",
            "    *   LinkedIn profile provided\n",
            "\n",
            "**2. Aristide Cash (Cv_Cl22.pdf)**\n",
            "\n",
            "*   **Role Sought:** Not explicitly stated, but the CV focuses on cleaning/maintenance roles.\n",
            "*   **Education:**\n",
            "    *   Esaip Ecole d’ingénieurs (Angers, France) (September 2023- September 2026)\n",
            "    *   Licence-Informatique, Institut universitaire de technologie (Bandjoun- Cameroun) (septembre 2020 - juillet 2023)\n",
            "    *   Baccalaureat s, college adventiste (Yaounde-Cameroun) (2018-2019)\n",
            "*   **Experience:**\n",
            "    *   Super U | Saint-Sylvaint-d’Anjou: Agent de service (December 2023-Mars 2024)\n",
            "    *   Geodis | Verrères-en-Anjou: Agent d’entretien industriel (Octobre-Decembre 2023)\n",
            "*   **Skills:**\n",
            "    *   Organisation, teamwork, dynamism, speed, integrity, punctuality\n",
            "*   **Languages:**\n",
            "    *   English\n",
            "    *   French\n",
            "*   **Other:**\n",
            "    *   Driver's License: B\n",
            "\n",
            "**3. Willy Cantona Waffo Talla (CV Cantona W.pdf)**\n",
            "\n",
            "*   **Role Sought:** Data Analyst / Data Scientist (Apprenticeship - \"Alternance\") at Bac+4 level (2nd year of engineering cycle). Duration of one or two years.\n",
            "*   **Availability:** Not explicitly stated, but seeking an \"alternance,\" implying immediate availability aligned with school schedules.\n",
            "*   **Education:**\n",
            "    *   Currently at University of Veliko Tarnovo (Bulgaria) - Erasmus (Semester 2)\n",
            "    *   ESAIP (Angers) - 1st year of Engineering Cycle (Semester 1) (Sept 2023 - Jan 2024)\n",
            "    *   Two years of preparatory classes at Université de la Côte (Douala, Cameroon) (Sept 2021 – June 2023)\n",
            "    *   Baccalauréat Scientifique (Collège de la Vallée, Douala, Cameroon) (Sept 2020 – June 2021)\n",
            "*   **Experience:**\n",
            "    *   Burger King (Le Mans): ASSISTANT EN BIG DATA ET ANALYTICS (Nov 2023 – Feb 2024)\n",
            "    *   Eneo (Douala -Cameroun): RECHERCHE EN APPRENTISSAGE AUTOMATIQUE (STAGE) (May 2023 – Sept 2023)\n",
            "    *   Hysacam (Douala -Cameroun): ASSSISTANT EN DATA ANALYST / DATA SCIENTIST (BENEVOLA T) (April 2022 – Aug 2022)\n",
            "*   **Skills:**\n",
            "    *   **Data Analysis:** Mastery of data analysis, static and dynamic modeling.\n",
            "    *   **Machine Learning/Deep Learning:** Knowledge of algorithms.\n",
            "    *   **Programming Languages:** Python, R, C, SAS, JavaScript, HTML, PHP, VBA, SQL, Java\n",
            "    *   **Data Handling:** Collect, clean, transform, and store data.\n",
            "    *   **Software:** Excel, Power BI, AWS, PowerPoint, R Studio.\n",
            "    *   **Tools:** Matplotlib, Seaborn, ggplot2\n",
            "*   **Languages:**\n",
            "    *   French: Native\n",
            "    *   English: B2\n",
            "*   **Other:**\n",
            "    *   Driver's License: B\n",
            "    *   Mobility: France\n",
            "    *   LinkedIn profile provided\n",
            "\n",
            "**Key Areas for Candidate Comparison:**\n",
            "\n",
            "*   **Relevance of Experience:**  How closely do their past roles align with the specific requirements of the job you're hiring for?  Pay attention to the specific tasks they performed.\n",
            "*   **Technical Skills:**  Assess their proficiency in the programming languages, tools, and technologies that are essential for the role.  Look for evidence of practical application (projects, internships).\n",
            "*   **Education:**  Consider the rigor and relevance of their academic background.  An engineering degree or specialized data science coursework is generally a plus.\n",
            "*   **Communication Skills:**  While not directly evident in the skill lists, look for evidence of communication skills in their experience descriptions (e.g., \"presenting data,\" \"providing reports,\" \"collaborating with teams\").\n",
            "*   **Motivation and Fit:**  Do their stated interests and career goals align with the company's mission and culture?\n",
            "*   **Availability:**  Confirm their availability for the position (start date, work permit status, etc.).\n",
            "*   **Language Proficiency:** Ensure their language skills meet the requirements of the role and work environment.\n"
          ]
        }
      ],
      "source": [
        "from langchain_core.prompts import ChatPromptTemplate\n",
        "from langchain_google_genai import ChatGoogleGenerativeAI\n",
        "import os\n",
        "\n",
        "os.environ[\"GOOGLE_API_KEY\"] = userdata.get(\"GOOGLE_API_KEY\")\n",
        "model = ChatGoogleGenerativeAI(model=\"gemini-2.0-flash\")\n",
        "\n",
        "\n",
        "\n",
        "prompt_template = ChatPromptTemplate.from_messages(\n",
        "    [\n",
        "        (\"system\", \"Output all informations importaant to analyse the profil of each candidats\"),\n",
        "        (\"user\", \"{input}\")\n",
        "    ]\n",
        ")\n",
        "\n",
        "response = model.invoke(prompt_template.invoke({\"input\": contenus_cvs}))\n",
        "\n",
        "print(response.content)"
      ]
    },
    {
      "cell_type": "markdown",
      "metadata": {
        "id": "_CaSf9o9SHJz"
      },
      "source": [
        "# **Noter le candidat**"
      ]
    },
    {
      "cell_type": "code",
      "execution_count": 26,
      "metadata": {
        "colab": {
          "base_uri": "https://localhost:8080/",
          "height": 267
        },
        "id": "etO_QKrsMeDs",
        "outputId": "7c9be4aa-5dc7-4271-d936-57ab408619e6"
      },
      "outputs": [
        {
          "data": {
            "text/markdown": [
              "**Cv_AD.pdf:** 7/10\n",
              "* Expérience professionnelle pertinente en tant que data analyst\n",
              "* Compétences techniques solides\n",
              "* Bonne présentation\n",
              "\n",
              "**Cv_Cl22.pdf:** 4/10\n",
              "* Expérience professionnelle limitée et non pertinente\n",
              "* Compétences techniques non spécifiées\n",
              "* Présentation peu professionnelle\n",
              "\n",
              "**CV Cantona W.pdf:** 8/10\n",
              "* Expérience professionnelle pertinente en data science\n",
              "* Compétences techniques avancées\n",
              "* Présentation professionnelle et claire"
            ],
            "text/plain": [
              "<IPython.core.display.Markdown object>"
            ]
          },
          "execution_count": 26,
          "metadata": {},
          "output_type": "execute_result"
        }
      ],
      "source": [
        "def noter_candidat(cv, offre):\n",
        "    model = genai.GenerativeModel(\"gemini-pro\")\n",
        "    prompt = f\"donne une note sur 10 sur chaque  cv :\\n{cv} \\n du candidat en fonction de l'offre:\\n{offre}\"\n",
        "    reponse = model.generate_content(prompt)\n",
        "    note = reponse.text.strip()\n",
        "    #print(f\"\\nnote d'emploi générée :\\n{note}\")\n",
        "    return note\n",
        "note = noter_candidat(contenus_cvs, offre)\n",
        "Markdown(note)"
      ]
    },
    {
      "cell_type": "code",
      "execution_count": 27,
      "metadata": {
        "id": "ZUE0szva7EnM"
      },
      "outputs": [],
      "source": [
        "from langchain_core.prompts import ChatPromptTemplate\n",
        "from pydantic import BaseModel, Field"
      ]
    },
    {
      "cell_type": "code",
      "execution_count": 28,
      "metadata": {
        "colab": {
          "base_uri": "https://localhost:8080/"
        },
        "id": "5vRtDU1hvcIH",
        "outputId": "230af1c5-b2c6-47ef-ebf5-fadc1ae769eb"
      },
      "outputs": [
        {
          "name": "stdout",
          "output_type": "stream",
          "text": [
            "Nom : Yannick Sone Sone, Note : 6\n",
            "Nom : Aristide Cash, Note : 2\n",
            "Nom : Willy Cantona WAFFO TALLA, Note : 7\n"
          ]
        }
      ],
      "source": [
        "class Info(BaseModel):\n",
        "    name: str = Field(description=\"Nom du candidat\")\n",
        "    note: int = Field(description=\"Note du CV du candidat en fonction de l'offre\")\n",
        "\n",
        "tagging_prompt = ChatPromptTemplate.from_template(\n",
        "    \"\"\"\n",
        "    Analyse le contenu suivant, extrait le nom du candidat et attribue une note sur 10 en fonction de l'offre suivante :\\n\n",
        "    Offre :\\n{offre}\\n\n",
        "    CV :\\n{cv}\\n\n",
        "    Ne retourne que les informations définies dans la classe Info.\n",
        "    \"\"\"\n",
        ")\n",
        "\n",
        "llm = ChatGoogleGenerativeAI(temperature=0, model=\"gemini-2.0-flash\").with_structured_output(Info)\n",
        "\n",
        "def analyser_cvs(contenus_cvs, offre):\n",
        "    resultats = []\n",
        "    for nom_cv, contenu_cv in contenus_cvs.items():\n",
        "        prompt = tagging_prompt.invoke({\"offre\": offre, \"cv\": contenu_cv})\n",
        "        response = llm.invoke(prompt)\n",
        "\n",
        "        resultats.append({\n",
        "            \"nom\": response.name,\n",
        "            \"note\": response.note\n",
        "        })\n",
        "    return resultats\n",
        "\n",
        "resultats_candidats = analyser_cvs(contenus_cvs, offre)\n",
        "for resultat in resultats_candidats:\n",
        "    print(f\"Nom : {resultat['nom']}, Note : {resultat['note']}\")"
      ]
    },
    {
      "cell_type": "code",
      "execution_count": 29,
      "metadata": {
        "colab": {
          "base_uri": "https://localhost:8080/",
          "height": 594
        },
        "id": "JygyIvSu8wot",
        "outputId": "50fa82fc-363b-4a0c-d2ea-5a0e75ed36c8"
      },
      "outputs": [
        {
          "data": {
            "image/png": "[encoded data removed]",
            "text/plain": [
              "<Figure size 1000x600 with 1 Axes>"
            ]
          },
          "metadata": {},
          "output_type": "display_data"
        }
      ],
      "source": [
        "# Fonction pour visualiser les notes des candidats sur un graphe\n",
        "def visualiser_notes(resultats_candidats):\n",
        "    noms = [resultat['nom'] for resultat in resultats_candidats]\n",
        "    notes = [resultat['note'] for resultat in resultats_candidats]\n",
        "\n",
        "    plt.figure(figsize=(10, 6))\n",
        "    plt.bar(noms, notes, color=\"skyblue\")\n",
        "    plt.xlabel(\"Candidats\", fontsize=14)\n",
        "    plt.ylabel(\"Notes\", fontsize=14)\n",
        "    plt.title(\"Notes des candidats en fonction des CV\", fontsize=16)\n",
        "    plt.xticks(rotation=45, ha=\"right\", fontsize=12)\n",
        "    plt.ylim(0, 10)\n",
        "    plt.grid(axis=\"y\", linestyle=\"--\", alpha=0.7)\n",
        "    plt.tight_layout()\n",
        "    plt.show()\n",
        "\n",
        "# Visualisation des résultats\n",
        "visualiser_notes(resultats_candidats)"
      ]
    },
    {
      "cell_type": "code",
      "execution_count": 32,
      "metadata": {
        "colab": {
          "base_uri": "https://localhost:8080/",
          "height": 570
        },
        "id": "7a_gwXvlUIRf",
        "outputId": "9c6201aa-da7a-4fd3-c8dd-599713e9e0cf"
      },
      "outputs": [
        {
          "data": {
            "text/markdown": [
              "**Questions d'entretien liées au CV**\n",
              "\n",
              "**CV : Cv_AD.pdf**\n",
              "\n",
              "* **Questions techniques:**\n",
              "    * Pouvez-vous nous parler de votre expérience dans la collecte et le traitement de données ?\n",
              "    * Quels outils et techniques avez-vous utilisés pour analyser les données ?\n",
              "    * Quels types de visualisations et de rapports de données avez-vous créés ?\n",
              "* **Questions comportementales:**\n",
              "    * Racontez-nous un moment où vous avez dû collecter et analyser des données dans un délai serré.\n",
              "    * Décrivez une fois où vous avez utilisé vos compétences en communication pour présenter efficacement des données à des parties prenantes non techniques.\n",
              "\n",
              "**CV : Cv_Cl22.pdf**\n",
              "\n",
              "* **Questions techniques:**\n",
              "    * Décrivez vos tâches quotidiennes en tant qu'agent d'entretien.\n",
              "    * Quels produits de nettoyage et équipements utilisez-vous régulièrement ?\n",
              "    * Quelles sont vos méthodes pour maintenir des normes élevées d'hygiène et de propreté ?\n",
              "* **Questions comportementales:**\n",
              "    * Donnez-nous un exemple de fois où vous avez dépassé les attentes dans votre travail en tant qu'agent d'entretien.\n",
              "    * Comment gérez-vous les situations où vous devez travailler avec un nombre limité de ressources ?\n",
              "\n",
              "**CV : CV Cantona W.pdf**\n",
              "\n",
              "* **Questions techniques:**\n",
              "    * Pouvez-vous nous expliquer votre compréhension des algorithmes de Machine Learning et Deep Learning ?\n",
              "    * Quels logiciels et outils avez-vous utilisés pour la collecte, le nettoyage et le traitement des données ?\n",
              "    * Comment avez-vous automatisé et rationalisé le traitement des données ?\n",
              "* **Questions comportementales:**\n",
              "    * Décrivez un projet dans lequel vous avez appliqué avec succès des techniques de Machine Learning pour résoudre un problème commercial.\n",
              "    * Racontez-nous un moment où vous avez dû travailler de manière autonome pour résoudre un défi technologique complexe."
            ],
            "text/plain": [
              "<IPython.core.display.Markdown object>"
            ]
          },
          "execution_count": 32,
          "metadata": {},
          "output_type": "execute_result"
        }
      ],
      "source": [
        "def formuler_questions(cv, offre):\n",
        "    model = genai.GenerativeModel(\"gemini-pro\")\n",
        "    prompt = f\"Genere les questions d'entretiens du cv :\\n{cv} \\n en fonction de l'offre:\\n{offre}\"\n",
        "    reponse = model.generate_content(prompt)\n",
        "    questions = reponse.text.strip()\n",
        "    #print(f\"\\nnote d'emploi générée :\\n{note}\")\n",
        "    return questions\n",
        "questions = formuler_questions(contenus_cvs, offre)\n",
        "Markdown(questions)"
      ]
    },
    {
      "cell_type": "code",
      "execution_count": null,
      "metadata": {
        "id": "haajmfPr48cj"
      },
      "outputs": [],
      "source": []
    }
  ],
  "metadata": {
    "colab": {
      "provenance": []
    },
    "kernelspec": {
      "display_name": "Python 3",
      "name": "python3"
    },
    "language_info": {
      "codemirror_mode": {
        "name": "ipython",
        "version": 3
      },
      "file_extension": ".py",
      "mimetype": "text/x-python",
      "name": "python",
      "nbconvert_exporter": "python",
      "pygments_lexer": "ipython3",
      "version": "3.11.11"
    }
  },
  "nbformat": 4,
  "nbformat_minor": 0
}
