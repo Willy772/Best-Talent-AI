{
  "nbformat": 4,
  "nbformat_minor": 0,
  "metadata": {
    "colab": {
      "provenance": [],
      "authorship_tag": "ABX9TyOcIk5wydkdj9XT0e0tM+tL",
      "include_colab_link": true
    },
    "kernelspec": {
      "name": "python3",
      "display_name": "Python 3"
    },
    "language_info": {
      "name": "python"
    }
  },
  "cells": [
    {
      "cell_type": "markdown",
      "metadata": {
        "id": "view-in-github",
        "colab_type": "text"
      },
      "source": [
        "<a href=\"https://colab.research.google.com/github/Willy772/IA_Recrutment/blob/main/IA_recrutment.ipynb\" target=\"_parent\"><img src=\"https://colab.research.google.com/assets/colab-badge.svg\" alt=\"Open In Colab\"/></a>"
      ]
    },
    {
      "cell_type": "code",
      "execution_count": null,
      "metadata": {
        "id": "WwjUVlPdGYzx"
      },
      "outputs": [],
      "source": [
        "import google.generativeai as genai\n",
        "from google.colab import userdata\n",
        "import matplotlib.pyplot as plt\n",
        "import json\n",
        "from collections import Counter\n",
        "\n",
        "GOOGLE_API_KEY=userdata.get('GOOGLE_API_KEY')\n",
        "genai.configure(api_key=GOOGLE_API_KEY)"
      ]
    },
    {
      "cell_type": "code",
      "source": [
        "# Charger les besoins\n",
        "def lire_besoins(fichier):\n",
        "    with open(fichier, \"r\", encoding=\"utf-8\") as f:\n",
        "        besoins = f.read()\n",
        "    return besoins"
      ],
      "metadata": {
        "id": "3P0CfN79G_VW"
      },
      "execution_count": null,
      "outputs": []
    },
    {
      "cell_type": "markdown",
      "source": [
        "# **Lire le fichier des besoins**"
      ],
      "metadata": {
        "id": "PTbIyIWlLIPm"
      }
    },
    {
      "cell_type": "code",
      "source": [
        "# Afficher le contenu du fichier\n",
        "def afficher_contenu(besoins):\n",
        "    print(\"\\nContenu du fichier :\\n\")\n",
        "    print(besoins)\n",
        "\n",
        "fichier_besoins = \"besoins.txt\"\n",
        "besoins = lire_besoins(fichier_besoins)\n",
        "afficher_contenu(besoins)"
      ],
      "metadata": {
        "colab": {
          "base_uri": "https://localhost:8080/"
        },
        "id": "tiDnHuPhHO7m",
        "outputId": "542473de-ee4a-4f27-9d19-a9abc768010e"
      },
      "execution_count": null,
      "outputs": [
        {
          "output_type": "stream",
          "name": "stdout",
          "text": [
            "\n",
            "Contenu du fichier :\n",
            "\n",
            "je cherche un profil pour developper une application Java avec model MCV\n",
            "nous avons une equipe calme et dynamique, donc je veux un profil avec des atouts complementaire\n",
            "je veux de competence comme java, Snowflake\n"
          ]
        }
      ]
    },
    {
      "cell_type": "code",
      "source": [
        "# Détecter les informations pertinentes pour la rédaction de l'offre\n",
        "def detecter_info(besoins):\n",
        "    model = genai.GenerativeModel(\"gemini-pro\")\n",
        "    prompt = \"Analyse le texte suivant et extrait les informations pertinentes pour rédiger une offre d'emploi :\\n\" + besoins\n",
        "    reponse = model.generate_content(prompt)\n",
        "    info_pertinentes = reponse.text.strip()\n",
        "    print(f\"\\nInformations détectées :\\n{info_pertinentes}\")\n",
        "    return info_pertinentes\n",
        "info_pertinentes = detecter_info(besoins)"
      ],
      "metadata": {
        "colab": {
          "base_uri": "https://localhost:8080/",
          "height": 399
        },
        "id": "RgKl4S7LUc4T",
        "outputId": "c97dfabb-6656-49e6-e5da-98fae74c1396"
      },
      "execution_count": null,
      "outputs": [
        {
          "output_type": "stream",
          "name": "stdout",
          "text": [
            "\n",
            "Informations détectées :\n",
            "**Informations pertinentes pour une offre d'emploi :**\n",
            "\n",
            "**Intitulé du poste :** Développeur Java\n",
            "\n",
            "**Responsabilités :**\n",
            "\n",
            "* Développer une application Java en utilisant le modèle MVC\n",
            "* Collaborer avec une équipe \"calme et dynamique\", en apportant des atouts complémentaires\n",
            "\n",
            "**Compétences requises :**\n",
            "\n",
            "* Maîtrise de Java\n",
            "* Connaissances de Snowflake\n",
            "* Compétences complémentaires de l'équipe (non spécifiées dans le texte fourni)\n",
            "\n",
            "**Qualités souhaitées :**\n",
            "\n",
            "* Excellentes compétences en communication et en travail d'équipe\n",
            "* Capacité à travailler à la fois de manière autonome et en collaboration\n",
            "* Motivation et volonté de se dépasser\n"
          ]
        }
      ]
    },
    {
      "cell_type": "code",
      "source": [
        "# Rédaction de l'offre\n",
        "def rediger_offre(info_pertinentes):\n",
        "    model = genai.GenerativeModel(\"gemini-pro\")\n",
        "    prompt = f\"À partir des informations suivantes, rédige une offre d'emploi complète et bien structurée :\\n{info_pertinentes}\"\n",
        "    reponse = model.generate_content(prompt)\n",
        "    offre = reponse.text.strip()\n",
        "    print(f\"\\nOffre d'emploi générée :\\n{offre}\")\n",
        "    return offre\n",
        "resultats = rediger_offre(info_pertinentes)"
      ],
      "metadata": {
        "colab": {
          "base_uri": "https://localhost:8080/",
          "height": 714
        },
        "id": "3QyWER4ZLmoJ",
        "outputId": "d7b07b29-2923-419f-ba3e-0e805b1819d8"
      },
      "execution_count": null,
      "outputs": [
        {
          "output_type": "stream",
          "name": "stdout",
          "text": [
            "\n",
            "Offre d'emploi générée :\n",
            "**Offre d'emploi**\n",
            "\n",
            "**Intitulé du poste :** Développeur Java\n",
            "\n",
            "**Description du poste :**\n",
            "\n",
            "Nous recherchons un développeur Java talentueux pour rejoindre notre équipe \"calme et dynamique\". Le candidat idéal apportera ses compétences techniques et ses qualités complémentaires pour soutenir notre projet de développement d'une application Java en utilisant le modèle MVC.\n",
            "\n",
            "**Responsabilités :**\n",
            "\n",
            "* Concevoir, développer et maintenir l'application Java\n",
            "* Travailler en collaboration avec l'équipe pour assurer la cohérence et la qualité du code\n",
            "* Contribuer à l'amélioration continue des pratiques de développement\n",
            "\n",
            "**Compétences requises :**\n",
            "\n",
            "* Maîtrise de Java et de ses concepts fondamentaux\n",
            "* Connaissances approfondies de Snowflake\n",
            "* Expérience dans le développement d'applications MVC\n",
            "* Compréhension des principes de conception logicielle et des bonnes pratiques de codage\n",
            "\n",
            "**Qualités souhaitées :**\n",
            "\n",
            "* Excellentes compétences en communication et en travail d'équipe\n",
            "* Capacité à travailler de manière autonome et à apporter des solutions créatives\n",
            "* Motivation, passion pour l'informatique et volonté de se dépasser\n",
            "* Compétences complémentaires apportées à l'équipe (non spécifiées)\n",
            "\n",
            "**Avantages :**\n",
            "\n",
            "* Rejoindre une équipe innovante et conviviale\n",
            "* Travailler sur des projets stimulants et à fort impact\n",
            "* Bénéficier d'un environnement de travail moderne et flexible\n",
            "\n",
            "**Pour postuler :**\n",
            "\n",
            "Veuillez envoyer votre CV et une lettre de motivation mettant en évidence vos compétences et votre expérience à [adresse email de recrutement].\n"
          ]
        }
      ]
    }
  ]
}